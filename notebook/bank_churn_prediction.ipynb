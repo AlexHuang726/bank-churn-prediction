{
 "cells": [
  {
   "cell_type": "markdown",
   "id": "3f77fdf5",
   "metadata": {},
   "source": [
    "\n",
    "# 🔍 銀行客戶流失預測專案 - Bank Customer Churn Prediction\n",
    "\n",
    "本專案使用 Logistic Regression 與 Random Forest 建立分類模型，以預測銀行客戶是否有流失傾向，並進一步分析其影響因子。\n"
   ]
  },
  {
   "cell_type": "code",
   "execution_count": null,
   "id": "f565d46d",
   "metadata": {},
   "outputs": [],
   "source": [
    "\n",
    "import pandas as pd\n",
    "import numpy as np\n",
    "import matplotlib.pyplot as plt\n",
    "import seaborn as sns\n",
    "\n",
    "from sklearn.model_selection import train_test_split\n",
    "from sklearn.preprocessing import LabelEncoder\n",
    "from sklearn.linear_model import LogisticRegression\n",
    "from sklearn.ensemble import RandomForestClassifier\n",
    "from sklearn.metrics import confusion_matrix, classification_report\n",
    "\n",
    "import warnings\n",
    "warnings.filterwarnings(\"ignore\")\n"
   ]
  },
  {
   "cell_type": "markdown",
   "id": "92be8664",
   "metadata": {},
   "source": [
    "## 📦 資料讀取與前處理"
   ]
  },
  {
   "cell_type": "code",
   "execution_count": null,
   "id": "5edf3d93",
   "metadata": {},
   "outputs": [],
   "source": [
    "\n",
    "df = pd.read_csv('../data/Bank Customer Churn Prediction.csv')\n",
    "\n",
    "# Label Encoding 處理類別欄位\n",
    "label = LabelEncoder()\n",
    "df['gender'] = label.fit_transform(df['gender'])\n",
    "df['country'] = label.fit_transform(df['country'])\n",
    "\n",
    "# 特徵與目標變數拆分\n",
    "X = df.drop(['churn'], axis=1)\n",
    "y = df['churn']\n",
    "\n",
    "# 切分訓練集與測試集\n",
    "X_train, X_test, y_train, y_test = train_test_split(X, y, test_size=0.2, random_state=42)\n"
   ]
  },
  {
   "cell_type": "markdown",
   "id": "beaa32b8",
   "metadata": {},
   "source": [
    "## 🤖 模型訓練"
   ]
  },
  {
   "cell_type": "code",
   "execution_count": null,
   "id": "d78db4c0",
   "metadata": {},
   "outputs": [],
   "source": [
    "\n",
    "# Logistic Regression\n",
    "lr = LogisticRegression()\n",
    "lr.fit(X_train, y_train)\n",
    "y_pred_lr = lr.predict(X_test)\n",
    "\n",
    "# Random Forest\n",
    "rf = RandomForestClassifier(n_estimators=100, random_state=42)\n",
    "rf.fit(X_train, y_train)\n",
    "y_pred_rf = rf.predict(X_test)\n"
   ]
  },
  {
   "cell_type": "markdown",
   "id": "07dd8f52",
   "metadata": {},
   "source": [
    "## 📊 模型評估"
   ]
  },
  {
   "cell_type": "code",
   "execution_count": null,
   "id": "44ccb8b9",
   "metadata": {},
   "outputs": [],
   "source": [
    "\n",
    "# Confusion Matrix 與報告\n",
    "print(\"Logistic Regression:\")\n",
    "print(confusion_matrix(y_test, y_pred_lr))\n",
    "print(classification_report(y_test, y_pred_lr))\n",
    "\n",
    "print(\"Random Forest:\")\n",
    "print(confusion_matrix(y_test, y_pred_rf))\n",
    "print(classification_report(y_test, y_pred_rf))\n"
   ]
  },
  {
   "cell_type": "markdown",
   "id": "f7e85d5f",
   "metadata": {},
   "source": [
    "## 📈 模型比較與視覺化圖表"
   ]
  },
  {
   "cell_type": "markdown",
   "id": "f32088c7",
   "metadata": {},
   "source": [
    "\n",
    "### 模型比較圖：\n",
   ![Model Comparison](images/model_comparison.png)
    
    "### Logistic Regression 混淆矩陣：\n",
    "![](./images/confusion_logistic.png)\n",
    "\n",
    "### Random Forest 混淆矩陣：\n",
    "![](./images/confusion_rf.png)\n",
    "\n",
    "### 特徵重要性（以 Logistic Regression 為例）：\n",
    "![](./images/feature_importance_logistic.png)\n"
   ]
  },
  {
   "cell_type": "markdown",
   "id": "664fea40",
   "metadata": {},
   "source": [
    "\n",
    "## ✅ 結論與應用\n",
    "\n",
    "- 透過簡單的模型可以快速預測客戶是否流失\n",
    "- 特徵重要性顯示「是否活躍」、「性別」、「國籍」等是關鍵因素\n",
    "- 可用於銀行 CRM 策略應用與流失預警系統建構\n"
   ]
  }
 ],
 "metadata": {},
 "nbformat": 4,
 "nbformat_minor": 5
}
