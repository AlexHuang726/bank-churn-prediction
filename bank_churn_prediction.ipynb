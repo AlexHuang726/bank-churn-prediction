{
 "cells": [
  {
   "cell_type": "markdown",
   "id": "3f77fdf5",
   "metadata": {},
   "source": [
    "\n",
    "# \ud83d\udd0d \u9280\u884c\u5ba2\u6236\u6d41\u5931\u9810\u6e2c\u5c08\u6848 - Bank Customer Churn Prediction\n",
    "\n",
    "\u672c\u5c08\u6848\u4f7f\u7528 Logistic Regression \u8207 Random Forest \u5efa\u7acb\u5206\u985e\u6a21\u578b\uff0c\u4ee5\u9810\u6e2c\u9280\u884c\u5ba2\u6236\u662f\u5426\u6709\u6d41\u5931\u50be\u5411\uff0c\u4e26\u9032\u4e00\u6b65\u5206\u6790\u5176\u5f71\u97ff\u56e0\u5b50\u3002\n"
   ]
  },
  {
   "cell_type": "code",
   "execution_count": null,
   "id": "f565d46d",
   "metadata": {},
   "outputs": [],
   "source": [
    "\n",
    "import pandas as pd\n",
    "import numpy as np\n",
    "import matplotlib.pyplot as plt\n",
    "import seaborn as sns\n",
    "\n",
    "from sklearn.model_selection import train_test_split\n",
    "from sklearn.preprocessing import LabelEncoder\n",
    "from sklearn.linear_model import LogisticRegression\n",
    "from sklearn.ensemble import RandomForestClassifier\n",
    "from sklearn.metrics import confusion_matrix, classification_report\n",
    "\n"
   ]
  },
  {
   "cell_type": "markdown",
   "id": "92be8664",
   "metadata": {},
   "source": [
    "## \ud83d\udce6 \u8cc7\u6599\u8b80\u53d6\u8207\u524d\u8655\u7406"
   ]
  },
  {
   "cell_type": "code",
   "execution_count": null,
   "id": "5edf3d93",
   "metadata": {},
   "outputs": [],
   "source": [
    "\n",
    "from pathlib import Path\n",
    "data_path = Path('data/Bank Customer Churn Prediction.csv')\n",
    "if not data_path.exists():\n",
    "    raise FileNotFoundError(f'Dataset not found at {data_path.resolve()}')\n",
    "df = pd.read_csv(data_path)\n",
    "\n",
    "# Label Encoding \u8655\u7406\u985e\u5225\u6b04\u4f4d\n",
    "label = LabelEncoder()\n",
    "df['gender'] = label.fit_transform(df['gender'])\n",
    "df['country'] = label.fit_transform(df['country'])\n",
    "\n",
    "# \u7279\u5fb5\u8207\u76ee\u6a19\u8b8a\u6578\u62c6\u5206\n",
    "X = df.drop(['churn'], axis=1)\n",
    "y = df['churn']\n",
    "\n",
    "# \u5207\u5206\u8a13\u7df4\u96c6\u8207\u6e2c\u8a66\u96c6\n",
    "X_train, X_test, y_train, y_test = train_test_split(X, y, test_size=0.2, random_state=42)\n"
   ]
  },
  {
   "cell_type": "markdown",
   "id": "beaa32b8",
   "metadata": {},
   "source": [
    "## \ud83e\udd16 \u6a21\u578b\u8a13\u7df4"
   ]
  },
  {
   "cell_type": "code",
   "execution_count": null,
   "id": "d78db4c0",
   "metadata": {},
   "outputs": [],
   "source": [
    "\n",
    "# Logistic Regression\n",
    "lr = LogisticRegression(max_iter=1000)\n",
    "lr.fit(X_train, y_train)\n",
    "y_pred_lr = lr.predict(X_test)\n",
    "\n",
    "# Random Forest\n",
    "rf = RandomForestClassifier(n_estimators=100, random_state=42)\n",
    "rf.fit(X_train, y_train)\n",
    "y_pred_rf = rf.predict(X_test)\n"
   ]
  },
  {
   "cell_type": "markdown",
   "id": "07dd8f52",
   "metadata": {},
   "source": [
    "## \ud83d\udcca \u6a21\u578b\u8a55\u4f30"
   ]
  },
  {
   "cell_type": "code",
   "execution_count": null,
   "id": "44ccb8b9",
   "metadata": {},
   "outputs": [],
   "source": [
    "\n",
    "# Confusion Matrix \u8207\u5831\u544a\n",
    "print(\"Logistic Regression:\")\n",
    "print(confusion_matrix(y_test, y_pred_lr))\n",
    "print(classification_report(y_test, y_pred_lr))\n",
    "\n",
    "print(\"Random Forest:\")\n",
    "print(confusion_matrix(y_test, y_pred_rf))\n",
    "print(classification_report(y_test, y_pred_rf))\n"
   ]
  },
  {
   "cell_type": "markdown",
   "id": "f7e85d5f",
   "metadata": {},
   "source": [
    "## \ud83d\udcc8 \u6a21\u578b\u6bd4\u8f03\u8207\u8996\u89ba\u5316\u5716\u8868"
   ]
  },
  {
   "cell_type": "markdown",
   "id": "f32088c7",
   "metadata": {},
   "source": [
    "\n",
    "### \u6a21\u578b\u6bd4\u8f03\u5716\uff1a\n",
    "![](./images/model_comparison.png)\n",
    "\n",
    "### Logistic Regression \u6df7\u6dc6\u77e9\u9663\uff1a\n",
    "![](./images/confusion_logistic.png)\n",
    "\n",
    "### Random Forest \u6df7\u6dc6\u77e9\u9663\uff1a\n",
    "![](./images/confusion_rf.png)\n",
    "\n",
    "### \u7279\u5fb5\u91cd\u8981\u6027\uff08\u4ee5 Logistic Regression \u70ba\u4f8b\uff09\uff1a\n",
    "![](./images/feature_importance_logistic.png)\n"
   ]
  },
  {
   "cell_type": "markdown",
   "id": "664fea40",
   "metadata": {},
   "source": [
    "\n",
    "## \u2705 \u7d50\u8ad6\u8207\u61c9\u7528\n",
    "\n",
    "- \u900f\u904e\u7c21\u55ae\u7684\u6a21\u578b\u53ef\u4ee5\u5feb\u901f\u9810\u6e2c\u5ba2\u6236\u662f\u5426\u6d41\u5931\n",
    "- \u7279\u5fb5\u91cd\u8981\u6027\u986f\u793a\u300c\u662f\u5426\u6d3b\u8e8d\u300d\u3001\u300c\u6027\u5225\u300d\u3001\u300c\u570b\u7c4d\u300d\u7b49\u662f\u95dc\u9375\u56e0\u7d20\n",
    "- \u53ef\u7528\u65bc\u9280\u884c CRM \u7b56\u7565\u61c9\u7528\u8207\u6d41\u5931\u9810\u8b66\u7cfb\u7d71\u5efa\u69cb\n"
   ]
  }
 ],
 "metadata": {},
 "nbformat": 4,
 "nbformat_minor": 5
}